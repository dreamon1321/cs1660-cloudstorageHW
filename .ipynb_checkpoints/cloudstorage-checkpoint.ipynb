{
 "cells": [
  {
   "cell_type": "code",
   "execution_count": 20,
   "metadata": {},
   "outputs": [],
   "source": [
    "#!pip install boto3\n",
    "import boto3"
   ]
  },
  {
   "cell_type": "code",
   "execution_count": 21,
   "metadata": {},
   "outputs": [],
   "source": [
    "s3 = boto3.resource('s3',\n",
    "                   aws_access_key_id = 'enter-your-access-key',\n",
    "                   aws_secret_access_key = 'enter-your-secret-access-key'\n",
    ")"
   ]
  },
  {
   "cell_type": "code",
   "execution_count": 22,
   "metadata": {},
   "outputs": [
    {
     "name": "stdout",
     "output_type": "stream",
     "text": [
      "maybe the bucket name or region is not good\n"
     ]
    }
   ],
   "source": [
    "try:\n",
    "    s3.create_bucket(Bucket = 'amichaelbucket', \n",
    "                     CreateBucketConfiguration = {\n",
    "                         'LocationConstraint': 'us-west-2'}\n",
    "    )\n",
    "    print('bucket creation was successful')\n",
    "except:\n",
    "    print('maybe the bucket name or region is not good')"
   ]
  },
  {
   "cell_type": "code",
   "execution_count": 23,
   "metadata": {},
   "outputs": [],
   "source": [
    "bucket = s3.Bucket(\"amichaelbucket\")"
   ]
  },
  {
   "cell_type": "code",
   "execution_count": 24,
   "metadata": {},
   "outputs": [
    {
     "data": {
      "text/plain": [
       "{'ResponseMetadata': {'RequestId': '6WDSSQB39C7EPHTJ',\n",
       "  'HostId': '0lRRuO7XATAdT4yrNQlcbI2Nix7B3PrPc7DdYSJio+S2ZDBbRxB/A+6WfNEwLwne6FyVB8nveo8=',\n",
       "  'HTTPStatusCode': 200,\n",
       "  'HTTPHeaders': {'x-amz-id-2': '0lRRuO7XATAdT4yrNQlcbI2Nix7B3PrPc7DdYSJio+S2ZDBbRxB/A+6WfNEwLwne6FyVB8nveo8=',\n",
       "   'x-amz-request-id': '6WDSSQB39C7EPHTJ',\n",
       "   'date': 'Mon, 15 Mar 2021 03:39:13 GMT',\n",
       "   'content-length': '0',\n",
       "   'server': 'AmazonS3'},\n",
       "  'RetryAttempts': 0}}"
      ]
     },
     "execution_count": 24,
     "metadata": {},
     "output_type": "execute_result"
    }
   ],
   "source": [
    "bucket.Acl().put(ACL = 'public-read')"
   ]
  },
  {
   "cell_type": "code",
   "execution_count": 25,
   "metadata": {},
   "outputs": [],
   "source": [
    "body = open('test.txt', 'rb')"
   ]
  },
  {
   "cell_type": "code",
   "execution_count": 26,
   "metadata": {},
   "outputs": [],
   "source": [
    "o = s3.Object('amichaelbucket', 'exp1test').put(Body = body)"
   ]
  },
  {
   "cell_type": "code",
   "execution_count": 27,
   "metadata": {},
   "outputs": [
    {
     "data": {
      "text/plain": [
       "{'ResponseMetadata': {'RequestId': 'KR7T9GE0H0TM6DCG',\n",
       "  'HostId': 'pOkCS65lPKsX/a1fOxBMDEiBzzJ91hqYzTVDY1LH8vER5jkdUbfZYiMhOTNaRM2wHhUmXGggxCM=',\n",
       "  'HTTPStatusCode': 200,\n",
       "  'HTTPHeaders': {'x-amz-id-2': 'pOkCS65lPKsX/a1fOxBMDEiBzzJ91hqYzTVDY1LH8vER5jkdUbfZYiMhOTNaRM2wHhUmXGggxCM=',\n",
       "   'x-amz-request-id': 'KR7T9GE0H0TM6DCG',\n",
       "   'date': 'Mon, 15 Mar 2021 03:39:14 GMT',\n",
       "   'content-length': '0',\n",
       "   'server': 'AmazonS3'},\n",
       "  'RetryAttempts': 0}}"
      ]
     },
     "execution_count": 27,
     "metadata": {},
     "output_type": "execute_result"
    }
   ],
   "source": [
    "s3.Object('amichaelbucket', 'exp1test').Acl().put(ACL = 'public-read')"
   ]
  },
  {
   "cell_type": "code",
   "execution_count": 28,
   "metadata": {},
   "outputs": [],
   "source": [
    "dyndb = boto3.resource('dynamodb',\n",
    "                      region_name = 'us-west-2',\n",
    "                      aws_access_key_id = 'enter-your-access-key',\n",
    "                      aws_secret_access_key = 'enter-your-secret-access-key'\n",
    ")"
   ]
  },
  {
   "cell_type": "code",
   "execution_count": 29,
   "metadata": {},
   "outputs": [],
   "source": [
    "try:\n",
    "    table = dyndb.create_table(\n",
    "            TableName = 'ExperimentDataTable',\n",
    "            KeySchema = [\n",
    "                {\n",
    "                    'AttributeName': 'PartitionKey',\n",
    "                    'KeyType': 'HASH'\n",
    "                },\n",
    "                {\n",
    "                    'AttributeName': 'RowKey',\n",
    "                    'KeyType': 'RANGE'\n",
    "                }\n",
    "            ],\n",
    "            AttributeDefinitions = [\n",
    "                {\n",
    "                    'AttributeName': 'PartitionKey',\n",
    "                    'AttributeType': 'S'\n",
    "                },\n",
    "                {\n",
    "                    'AttributeName': 'RowKey',\n",
    "                    'AttributeType': 'S'\n",
    "                }\n",
    "            ],\n",
    "            ProvisionedThroughput = {\n",
    "                'ReadCapacityUnits': 5,\n",
    "                'WriteCapacityUnits': 5\n",
    "            }\n",
    "    )\n",
    "except:\n",
    "    table = dyndb.Table(\"ExperimentDataTable\")"
   ]
  },
  {
   "cell_type": "code",
   "execution_count": 30,
   "metadata": {},
   "outputs": [],
   "source": [
    "table.meta.client.get_waiter('table_exists').wait(TableName = 'ExperimentDataTable')"
   ]
  },
  {
   "cell_type": "code",
   "execution_count": 31,
   "metadata": {},
   "outputs": [
    {
     "name": "stdout",
     "output_type": "stream",
     "text": [
      "0\n"
     ]
    }
   ],
   "source": [
    "print(table.item_count)"
   ]
  },
  {
   "cell_type": "code",
   "execution_count": 32,
   "metadata": {},
   "outputs": [],
   "source": [
    "import csv"
   ]
  },
  {
   "cell_type": "code",
   "execution_count": 33,
   "metadata": {
    "scrolled": true
   },
   "outputs": [
    {
     "name": "stdout",
     "output_type": "stream",
     "text": [
      "['partition', 'itemid', 'date', 'comment', 'url']\n",
      "item may already be here, or some other failure\n",
      "['experiment1', 'data1', '2/13/2021', 'Words..', 'exp1.csv']\n",
      "['experiment2', 'data2', '2/20/2021', 'second experiment', 'exp2.csv']\n"
     ]
    }
   ],
   "source": [
    "with open(r'C:\\Users\\andre\\Desktop\\Spring2021\\CloudComp\\cs1660-cloudstorageHW\\experiments.csv', 'r', encoding=\"utf-8\") as csvfile:\n",
    "    csvf = csv.reader(csvfile, delimiter = ',', quotechar = '|')\n",
    "    for item in csvf:\n",
    "        print(item)\n",
    "        if '.csv' in str(item[4]):\n",
    "            body = open('C:\\\\Users\\\\andre\\\\Desktop\\\\Spring2021\\\\CloudComp\\\\cs1660-cloudstorageHW\\\\datafiles\\\\'+item[4],'rb')\n",
    "            s3.Object('amichaelbucket', item[4]).put(Body = body)\n",
    "            md = s3.Object('amichaelbucket', item[4]).Acl().put(ACL='public-read')\n",
    "            url = \"https://s3-us-west-2.amazonaws.com/amichaelbucket/\"+item[4]\n",
    "            metadata_item = {\n",
    "                'PartitionKey': item[0],\n",
    "                'RowKey': item[1],\n",
    "                'description': item[4],\n",
    "                'date': item[2],\n",
    "                'url': url\n",
    "            }\n",
    "        try:\n",
    "            table.put_item(Item = metadata_item)\n",
    "        except:\n",
    "            print('item may already be here, or some other failure')"
   ]
  },
  {
   "cell_type": "code",
   "execution_count": 34,
   "metadata": {},
   "outputs": [
    {
     "name": "stdout",
     "output_type": "stream",
     "text": [
      "{'PartitionKey': 'experiment2', 'RowKey': 'data2', 'date': '2/20/2021', 'description': 'exp2.csv', 'url': 'https://s3-us-west-2.amazonaws.com/amichaelbucket/exp2.csv'}\n"
     ]
    }
   ],
   "source": [
    "response = table.get_item(\n",
    "    Key = {\n",
    "        'PartitionKey': 'experiment2',\n",
    "        'RowKey': 'data2'\n",
    "    }\n",
    ")\n",
    "item = response['Item']\n",
    "print(item)"
   ]
  },
  {
   "cell_type": "code",
   "execution_count": 35,
   "metadata": {},
   "outputs": [
    {
     "data": {
      "text/plain": [
       "{'Item': {'PartitionKey': 'experiment2',\n",
       "  'RowKey': 'data2',\n",
       "  'date': '2/20/2021',\n",
       "  'description': 'exp2.csv',\n",
       "  'url': 'https://s3-us-west-2.amazonaws.com/amichaelbucket/exp2.csv'},\n",
       " 'ResponseMetadata': {'RequestId': 'QI3BB828D8H8NCOOOGFADLIRFJVV4KQNSO5AEMVJF66Q9ASUAAJG',\n",
       "  'HTTPStatusCode': 200,\n",
       "  'HTTPHeaders': {'server': 'Server',\n",
       "   'date': 'Mon, 15 Mar 2021 03:39:15 GMT',\n",
       "   'content-type': 'application/x-amz-json-1.0',\n",
       "   'content-length': '197',\n",
       "   'connection': 'keep-alive',\n",
       "   'x-amzn-requestid': 'QI3BB828D8H8NCOOOGFADLIRFJVV4KQNSO5AEMVJF66Q9ASUAAJG',\n",
       "   'x-amz-crc32': '2455662085'},\n",
       "  'RetryAttempts': 0}}"
      ]
     },
     "execution_count": 35,
     "metadata": {},
     "output_type": "execute_result"
    }
   ],
   "source": [
    "response"
   ]
  }
 ],
 "metadata": {
  "kernelspec": {
   "display_name": "Python 3",
   "language": "python",
   "name": "python3"
  },
  "language_info": {
   "codemirror_mode": {
    "name": "ipython",
    "version": 3
   },
   "file_extension": ".py",
   "mimetype": "text/x-python",
   "name": "python",
   "nbconvert_exporter": "python",
   "pygments_lexer": "ipython3",
   "version": "3.7.1"
  }
 },
 "nbformat": 4,
 "nbformat_minor": 2
}
